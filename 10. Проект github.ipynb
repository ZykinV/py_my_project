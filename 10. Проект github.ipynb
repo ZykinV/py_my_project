{
 "cells": [
  {
   "attachments": {},
   "cell_type": "markdown",
   "metadata": {},
   "source": [
    "# Рекомендация тарифов"
   ]
  },
  {
   "attachments": {},
   "cell_type": "markdown",
   "metadata": {},
   "source": [
    "22В вашем распоряжении данные о поведении клиентов, которые уже перешли на эти тарифы (из проекта курса «Статистический анализ данных»). Нужно построить модель для задачи классификации, которая выберет подходящий тариф. Предобработка данных не понадобится — вы её уже сделали.\n",
    "\n",
    "Постройте модель с максимально большим значением *accuracy*. Чтобы сдать проект успешно, нужно довести долю правильных ответов по крайней мере до 0.75. Проверьте *accuracy* на тестовой выборке самостоятельно."
   ]
  },
  {
   "attachments": {},
   "cell_type": "markdown",
   "metadata": {},
   "source": [
    "## Откройте и изучите файл"
   ]
  },
  {
   "cell_type": "code",
   "execution_count": 1,
   "metadata": {},
   "outputs": [],
   "source": [
    "# подключим библиотеку для работы с таблицей \n",
    "import pandas as pd\n",
    "# импортируем библиотеку для математических вычислений\n",
    "import numpy as np\n",
    "# импортируем библиотеку для построение графиков\n",
    "import matplotlib.pyplot as plt\n",
    "# подключим библиотеку для разбиения выборок\n",
    "from sklearn.model_selection import train_test_split\n",
    "# импортируем модель дерево принятия решений\n",
    "from sklearn.tree import DecisionTreeClassifier\n",
    "# <Импортируем метод оценки доли правильных ответов>\n",
    "from sklearn.metrics import accuracy_score\n",
    "# импортируем модель случайный лес\n",
    "from sklearn.ensemble import RandomForestClassifier\n",
    "# Импортируем алгоритм случайного поиска по гиперпараметрам\n",
    "from sklearn.model_selection import RandomizedSearchCV\n",
    "# <Импортируем метод логистической регрессии>\n",
    "from sklearn.linear_model import LogisticRegression\n",
    "# импортируем библиотеку случайных чисел\n",
    "import random as random"
   ]
  },
  {
   "attachments": {},
   "cell_type": "markdown",
   "metadata": {},
   "source": [
    "<div class=\"alert alert-info\">\n",
    "<font size=\"5\"><b>Исправление №1</b></font>\n",
    "Все импорты перенес в верхнюю часть своей работы \n",
    "</div>"
   ]
  },
  {
   "attachments": {},
   "cell_type": "markdown",
   "metadata": {},
   "source": [
    "<div class=\"alert alert-success\">\n",
    "<font size=\"5\"><b>Комментарий ревьюераV2</b></font>\n",
    "\n",
    "\n",
    "\n",
    "Успех 👍:\n",
    "\n",
    "Привет Виталий!\n",
    "\n",
    "👍\n",
    "\n",
    "\n",
    "\n",
    "\n",
    "</div>\n"
   ]
  },
  {
   "cell_type": "code",
   "execution_count": 2,
   "metadata": {},
   "outputs": [],
   "source": [
    "# скачаем дата сет\n",
    "df = pd.read_csv('/datasets/users_behavior.csv')"
   ]
  },
  {
   "cell_type": "code",
   "execution_count": 3,
   "metadata": {},
   "outputs": [
    {
     "data": {
      "text/html": [
       "<div>\n",
       "<style scoped>\n",
       "    .dataframe tbody tr th:only-of-type {\n",
       "        vertical-align: middle;\n",
       "    }\n",
       "\n",
       "    .dataframe tbody tr th {\n",
       "        vertical-align: top;\n",
       "    }\n",
       "\n",
       "    .dataframe thead th {\n",
       "        text-align: right;\n",
       "    }\n",
       "</style>\n",
       "<table border=\"1\" class=\"dataframe\">\n",
       "  <thead>\n",
       "    <tr style=\"text-align: right;\">\n",
       "      <th></th>\n",
       "      <th>calls</th>\n",
       "      <th>minutes</th>\n",
       "      <th>messages</th>\n",
       "      <th>mb_used</th>\n",
       "      <th>is_ultra</th>\n",
       "    </tr>\n",
       "  </thead>\n",
       "  <tbody>\n",
       "    <tr>\n",
       "      <th>0</th>\n",
       "      <td>40.0</td>\n",
       "      <td>311.90</td>\n",
       "      <td>83.0</td>\n",
       "      <td>19915.42</td>\n",
       "      <td>0</td>\n",
       "    </tr>\n",
       "    <tr>\n",
       "      <th>1</th>\n",
       "      <td>85.0</td>\n",
       "      <td>516.75</td>\n",
       "      <td>56.0</td>\n",
       "      <td>22696.96</td>\n",
       "      <td>0</td>\n",
       "    </tr>\n",
       "    <tr>\n",
       "      <th>2</th>\n",
       "      <td>77.0</td>\n",
       "      <td>467.66</td>\n",
       "      <td>86.0</td>\n",
       "      <td>21060.45</td>\n",
       "      <td>0</td>\n",
       "    </tr>\n",
       "    <tr>\n",
       "      <th>3</th>\n",
       "      <td>106.0</td>\n",
       "      <td>745.53</td>\n",
       "      <td>81.0</td>\n",
       "      <td>8437.39</td>\n",
       "      <td>1</td>\n",
       "    </tr>\n",
       "    <tr>\n",
       "      <th>4</th>\n",
       "      <td>66.0</td>\n",
       "      <td>418.74</td>\n",
       "      <td>1.0</td>\n",
       "      <td>14502.75</td>\n",
       "      <td>0</td>\n",
       "    </tr>\n",
       "  </tbody>\n",
       "</table>\n",
       "</div>"
      ],
      "text/plain": [
       "   calls  minutes  messages   mb_used  is_ultra\n",
       "0   40.0   311.90      83.0  19915.42         0\n",
       "1   85.0   516.75      56.0  22696.96         0\n",
       "2   77.0   467.66      86.0  21060.45         0\n",
       "3  106.0   745.53      81.0   8437.39         1\n",
       "4   66.0   418.74       1.0  14502.75         0"
      ]
     },
     "execution_count": 3,
     "metadata": {},
     "output_type": "execute_result"
    }
   ],
   "source": [
    "# просмотрим содержимое скаченного дата сета\n",
    "df.head()"
   ]
  },
  {
   "cell_type": "code",
   "execution_count": 4,
   "metadata": {},
   "outputs": [
    {
     "name": "stdout",
     "output_type": "stream",
     "text": [
      "<class 'pandas.core.frame.DataFrame'>\n",
      "RangeIndex: 3214 entries, 0 to 3213\n",
      "Data columns (total 5 columns):\n",
      " #   Column    Non-Null Count  Dtype  \n",
      "---  ------    --------------  -----  \n",
      " 0   calls     3214 non-null   float64\n",
      " 1   minutes   3214 non-null   float64\n",
      " 2   messages  3214 non-null   float64\n",
      " 3   mb_used   3214 non-null   float64\n",
      " 4   is_ultra  3214 non-null   int64  \n",
      "dtypes: float64(4), int64(1)\n",
      "memory usage: 125.7 KB\n"
     ]
    }
   ],
   "source": [
    "# посмотрим на структуру данных в дата сете\n",
    "df.info()"
   ]
  },
  {
   "cell_type": "code",
   "execution_count": 5,
   "metadata": {},
   "outputs": [
    {
     "data": {
      "text/html": [
       "<div>\n",
       "<style scoped>\n",
       "    .dataframe tbody tr th:only-of-type {\n",
       "        vertical-align: middle;\n",
       "    }\n",
       "\n",
       "    .dataframe tbody tr th {\n",
       "        vertical-align: top;\n",
       "    }\n",
       "\n",
       "    .dataframe thead th {\n",
       "        text-align: right;\n",
       "    }\n",
       "</style>\n",
       "<table border=\"1\" class=\"dataframe\">\n",
       "  <thead>\n",
       "    <tr style=\"text-align: right;\">\n",
       "      <th></th>\n",
       "      <th>calls</th>\n",
       "      <th>minutes</th>\n",
       "      <th>messages</th>\n",
       "      <th>mb_used</th>\n",
       "      <th>is_ultra</th>\n",
       "    </tr>\n",
       "  </thead>\n",
       "  <tbody>\n",
       "    <tr>\n",
       "      <th>count</th>\n",
       "      <td>3214.000000</td>\n",
       "      <td>3214.000000</td>\n",
       "      <td>3214.000000</td>\n",
       "      <td>3214.000000</td>\n",
       "      <td>3214.000000</td>\n",
       "    </tr>\n",
       "    <tr>\n",
       "      <th>mean</th>\n",
       "      <td>63.038892</td>\n",
       "      <td>438.208787</td>\n",
       "      <td>38.281269</td>\n",
       "      <td>17207.673836</td>\n",
       "      <td>0.306472</td>\n",
       "    </tr>\n",
       "    <tr>\n",
       "      <th>std</th>\n",
       "      <td>33.236368</td>\n",
       "      <td>234.569872</td>\n",
       "      <td>36.148326</td>\n",
       "      <td>7570.968246</td>\n",
       "      <td>0.461100</td>\n",
       "    </tr>\n",
       "    <tr>\n",
       "      <th>min</th>\n",
       "      <td>0.000000</td>\n",
       "      <td>0.000000</td>\n",
       "      <td>0.000000</td>\n",
       "      <td>0.000000</td>\n",
       "      <td>0.000000</td>\n",
       "    </tr>\n",
       "    <tr>\n",
       "      <th>25%</th>\n",
       "      <td>40.000000</td>\n",
       "      <td>274.575000</td>\n",
       "      <td>9.000000</td>\n",
       "      <td>12491.902500</td>\n",
       "      <td>0.000000</td>\n",
       "    </tr>\n",
       "    <tr>\n",
       "      <th>50%</th>\n",
       "      <td>62.000000</td>\n",
       "      <td>430.600000</td>\n",
       "      <td>30.000000</td>\n",
       "      <td>16943.235000</td>\n",
       "      <td>0.000000</td>\n",
       "    </tr>\n",
       "    <tr>\n",
       "      <th>75%</th>\n",
       "      <td>82.000000</td>\n",
       "      <td>571.927500</td>\n",
       "      <td>57.000000</td>\n",
       "      <td>21424.700000</td>\n",
       "      <td>1.000000</td>\n",
       "    </tr>\n",
       "    <tr>\n",
       "      <th>max</th>\n",
       "      <td>244.000000</td>\n",
       "      <td>1632.060000</td>\n",
       "      <td>224.000000</td>\n",
       "      <td>49745.730000</td>\n",
       "      <td>1.000000</td>\n",
       "    </tr>\n",
       "  </tbody>\n",
       "</table>\n",
       "</div>"
      ],
      "text/plain": [
       "             calls      minutes     messages       mb_used     is_ultra\n",
       "count  3214.000000  3214.000000  3214.000000   3214.000000  3214.000000\n",
       "mean     63.038892   438.208787    38.281269  17207.673836     0.306472\n",
       "std      33.236368   234.569872    36.148326   7570.968246     0.461100\n",
       "min       0.000000     0.000000     0.000000      0.000000     0.000000\n",
       "25%      40.000000   274.575000     9.000000  12491.902500     0.000000\n",
       "50%      62.000000   430.600000    30.000000  16943.235000     0.000000\n",
       "75%      82.000000   571.927500    57.000000  21424.700000     1.000000\n",
       "max     244.000000  1632.060000   224.000000  49745.730000     1.000000"
      ]
     },
     "execution_count": 5,
     "metadata": {},
     "output_type": "execute_result"
    }
   ],
   "source": [
    "df.describe()"
   ]
  },
  {
   "attachments": {},
   "cell_type": "markdown",
   "metadata": {},
   "source": [
    "<div class=\"alert alert-info\">\n",
    "<font size=\"5\"><b>Исправление №1</b></font>\n",
    "Добавил анализ данных импортированной таблице\n",
    "</div>"
   ]
  },
  {
   "cell_type": "code",
   "execution_count": 6,
   "metadata": {},
   "outputs": [
    {
     "data": {
      "text/html": [
       "<div>\n",
       "<style scoped>\n",
       "    .dataframe tbody tr th:only-of-type {\n",
       "        vertical-align: middle;\n",
       "    }\n",
       "\n",
       "    .dataframe tbody tr th {\n",
       "        vertical-align: top;\n",
       "    }\n",
       "\n",
       "    .dataframe thead th {\n",
       "        text-align: right;\n",
       "    }\n",
       "</style>\n",
       "<table border=\"1\" class=\"dataframe\">\n",
       "  <thead>\n",
       "    <tr style=\"text-align: right;\">\n",
       "      <th></th>\n",
       "      <th>calls</th>\n",
       "      <th>minutes</th>\n",
       "      <th>messages</th>\n",
       "      <th>mb_used</th>\n",
       "      <th>is_ultra</th>\n",
       "    </tr>\n",
       "  </thead>\n",
       "  <tbody>\n",
       "    <tr>\n",
       "      <th>calls</th>\n",
       "      <td>1.000000</td>\n",
       "      <td>0.982083</td>\n",
       "      <td>0.177385</td>\n",
       "      <td>0.286442</td>\n",
       "      <td>0.207122</td>\n",
       "    </tr>\n",
       "    <tr>\n",
       "      <th>minutes</th>\n",
       "      <td>0.982083</td>\n",
       "      <td>1.000000</td>\n",
       "      <td>0.173110</td>\n",
       "      <td>0.280967</td>\n",
       "      <td>0.206955</td>\n",
       "    </tr>\n",
       "    <tr>\n",
       "      <th>messages</th>\n",
       "      <td>0.177385</td>\n",
       "      <td>0.173110</td>\n",
       "      <td>1.000000</td>\n",
       "      <td>0.195721</td>\n",
       "      <td>0.203830</td>\n",
       "    </tr>\n",
       "    <tr>\n",
       "      <th>mb_used</th>\n",
       "      <td>0.286442</td>\n",
       "      <td>0.280967</td>\n",
       "      <td>0.195721</td>\n",
       "      <td>1.000000</td>\n",
       "      <td>0.198568</td>\n",
       "    </tr>\n",
       "    <tr>\n",
       "      <th>is_ultra</th>\n",
       "      <td>0.207122</td>\n",
       "      <td>0.206955</td>\n",
       "      <td>0.203830</td>\n",
       "      <td>0.198568</td>\n",
       "      <td>1.000000</td>\n",
       "    </tr>\n",
       "  </tbody>\n",
       "</table>\n",
       "</div>"
      ],
      "text/plain": [
       "             calls   minutes  messages   mb_used  is_ultra\n",
       "calls     1.000000  0.982083  0.177385  0.286442  0.207122\n",
       "minutes   0.982083  1.000000  0.173110  0.280967  0.206955\n",
       "messages  0.177385  0.173110  1.000000  0.195721  0.203830\n",
       "mb_used   0.286442  0.280967  0.195721  1.000000  0.198568\n",
       "is_ultra  0.207122  0.206955  0.203830  0.198568  1.000000"
      ]
     },
     "execution_count": 6,
     "metadata": {},
     "output_type": "execute_result"
    }
   ],
   "source": [
    "df.corr()"
   ]
  },
  {
   "attachments": {},
   "cell_type": "markdown",
   "metadata": {},
   "source": [
    "<div class=\"alert alert-info\">\n",
    "<font size=\"5\"><b>Исправление №1</b></font>\n",
    "Добавил связь по корреляции признаков. Здесь прослеживается только одна сильная связь: это звонки и минуты (0,982). Незначительная связь это количество звонков и минут с использованием интернета (0,28). Остальные звязи менее выражены \n",
    "</div>"
   ]
  },
  {
   "cell_type": "code",
   "execution_count": 7,
   "metadata": {},
   "outputs": [
    {
     "data": {
      "image/png": "[encoded data removed]",
      "text/plain": [
       "<Figure size 1080x1440 with 6 Axes>"
      ]
     },
     "metadata": {
      "needs_background": "light"
     },
     "output_type": "display_data"
    }
   ],
   "source": [
    "df.hist(figsize=(15, 20));"
   ]
  },
  {
   "attachments": {},
   "cell_type": "markdown",
   "metadata": {},
   "source": [
    "Структура данных нормальная. Выбросов и аномалий не наблюдается."
   ]
  },
  {
   "cell_type": "code",
   "execution_count": 8,
   "metadata": {},
   "outputs": [
    {
     "data": {
      "text/html": [
       "<div>\n",
       "<style scoped>\n",
       "    .dataframe tbody tr th:only-of-type {\n",
       "        vertical-align: middle;\n",
       "    }\n",
       "\n",
       "    .dataframe tbody tr th {\n",
       "        vertical-align: top;\n",
       "    }\n",
       "\n",
       "    .dataframe thead th {\n",
       "        text-align: right;\n",
       "    }\n",
       "</style>\n",
       "<table border=\"1\" class=\"dataframe\">\n",
       "  <thead>\n",
       "    <tr style=\"text-align: right;\">\n",
       "      <th></th>\n",
       "      <th>calls</th>\n",
       "      <th>minutes</th>\n",
       "      <th>messages</th>\n",
       "      <th>mb_used</th>\n",
       "    </tr>\n",
       "    <tr>\n",
       "      <th>is_ultra</th>\n",
       "      <th></th>\n",
       "      <th></th>\n",
       "      <th></th>\n",
       "      <th></th>\n",
       "    </tr>\n",
       "  </thead>\n",
       "  <tbody>\n",
       "    <tr>\n",
       "      <th>0</th>\n",
       "      <td>130315.0</td>\n",
       "      <td>904846.84</td>\n",
       "      <td>74413.0</td>\n",
       "      <td>36128672.83</td>\n",
       "    </tr>\n",
       "    <tr>\n",
       "      <th>1</th>\n",
       "      <td>72292.0</td>\n",
       "      <td>503556.20</td>\n",
       "      <td>48623.0</td>\n",
       "      <td>19176790.88</td>\n",
       "    </tr>\n",
       "  </tbody>\n",
       "</table>\n",
       "</div>"
      ],
      "text/plain": [
       "             calls    minutes  messages      mb_used\n",
       "is_ultra                                            \n",
       "0         130315.0  904846.84   74413.0  36128672.83\n",
       "1          72292.0  503556.20   48623.0  19176790.88"
      ]
     },
     "execution_count": 8,
     "metadata": {},
     "output_type": "execute_result"
    }
   ],
   "source": [
    "# построим сводную таблицу и посмотрим какое соотношение на одном и на втором тарифе\n",
    "df.groupby('is_ultra')[['calls','minutes','messages','mb_used']].sum()"
   ]
  },
  {
   "attachments": {},
   "cell_type": "markdown",
   "metadata": {},
   "source": [
    "По тарифу \"Ультра\" осуществляется меньше звонков практически в два раза, также практически в два раза меньше минут и сообщений. расход по интернет трафику тоже снижен в два раза. Нужно проверить количество пользователей на каждом тарифе"
   ]
  },
  {
   "cell_type": "code",
   "execution_count": 9,
   "metadata": {},
   "outputs": [
    {
     "data": {
      "text/plain": [
       "is_ultra\n",
       "0    2229\n",
       "1     985\n",
       "Name: calls, dtype: int64"
      ]
     },
     "execution_count": 9,
     "metadata": {},
     "output_type": "execute_result"
    }
   ],
   "source": [
    "df.groupby('is_ultra')['calls'].count()"
   ]
  },
  {
   "attachments": {},
   "cell_type": "markdown",
   "metadata": {},
   "source": [
    "Так и есть количество пользователей на тарифе \"Ультра\" почти в два раза меньше чем на тарифе \"Смарт\". Сделаем анализ среднего значения и сравним их."
   ]
  },
  {
   "cell_type": "code",
   "execution_count": 10,
   "metadata": {},
   "outputs": [
    {
     "data": {
      "text/html": [
       "<div>\n",
       "<style scoped>\n",
       "    .dataframe tbody tr th:only-of-type {\n",
       "        vertical-align: middle;\n",
       "    }\n",
       "\n",
       "    .dataframe tbody tr th {\n",
       "        vertical-align: top;\n",
       "    }\n",
       "\n",
       "    .dataframe thead th {\n",
       "        text-align: right;\n",
       "    }\n",
       "</style>\n",
       "<table border=\"1\" class=\"dataframe\">\n",
       "  <thead>\n",
       "    <tr style=\"text-align: right;\">\n",
       "      <th></th>\n",
       "      <th>calls</th>\n",
       "      <th>minutes</th>\n",
       "      <th>messages</th>\n",
       "      <th>mb_used</th>\n",
       "    </tr>\n",
       "    <tr>\n",
       "      <th>is_ultra</th>\n",
       "      <th></th>\n",
       "      <th></th>\n",
       "      <th></th>\n",
       "      <th></th>\n",
       "    </tr>\n",
       "  </thead>\n",
       "  <tbody>\n",
       "    <tr>\n",
       "      <th>0</th>\n",
       "      <td>58.463437</td>\n",
       "      <td>405.942952</td>\n",
       "      <td>33.384029</td>\n",
       "      <td>16208.466949</td>\n",
       "    </tr>\n",
       "    <tr>\n",
       "      <th>1</th>\n",
       "      <td>73.392893</td>\n",
       "      <td>511.224569</td>\n",
       "      <td>49.363452</td>\n",
       "      <td>19468.823228</td>\n",
       "    </tr>\n",
       "  </tbody>\n",
       "</table>\n",
       "</div>"
      ],
      "text/plain": [
       "              calls     minutes   messages       mb_used\n",
       "is_ultra                                                \n",
       "0         58.463437  405.942952  33.384029  16208.466949\n",
       "1         73.392893  511.224569  49.363452  19468.823228"
      ]
     },
     "execution_count": 10,
     "metadata": {},
     "output_type": "execute_result"
    }
   ],
   "source": [
    "df.groupby('is_ultra')[['calls','minutes','messages','mb_used']].mean()"
   ]
  },
  {
   "attachments": {},
   "cell_type": "markdown",
   "metadata": {},
   "source": [
    "А вот по средним значениям картина складывается совсем по другому! Тариф \"Ультра\" намного выгоден чем тариф \"Смарт\" "
   ]
  },
  {
   "attachments": {},
   "cell_type": "markdown",
   "metadata": {},
   "source": [
    "Вывод: Проанализировал состав данных в датасете, нет никаких отклонений. \n",
    "Анализ по сводным таблицам показал следующее: \n",
    "Абоненты на тарифе \"Ультра\" по стравнению с тарифом \"Сматр\" значительно больше осуществляют количество звонков (на 25%), больше общаются по минутам (на 20%), больше отправляют смски (на 48%), и соотсветственно больше используют интернет (на 17%)"
   ]
  },
  {
   "attachments": {},
   "cell_type": "markdown",
   "metadata": {},
   "source": [
    "## Разбейте данные на выборки"
   ]
  },
  {
   "cell_type": "code",
   "execution_count": 11,
   "metadata": {},
   "outputs": [],
   "source": [
    "# подключим библиотеку для разбиения выборок\n",
    "#from sklearn.model_selection import train_test_split"
   ]
  },
  {
   "attachments": {},
   "cell_type": "markdown",
   "metadata": {},
   "source": [
    "<div class=\"alert alert-info\">\n",
    "<font size=\"5\"><b>Исправление №1</b></font>\n",
    "Импорт перенес в верхнюю часть своей работы \n",
    "</div>"
   ]
  },
  {
   "cell_type": "code",
   "execution_count": 12,
   "metadata": {},
   "outputs": [],
   "source": [
    "# отделим 40% данных выборки для  обучения\n",
    "df_train, df_never = train_test_split(df, test_size =0.4, random_state = 12345)"
   ]
  },
  {
   "cell_type": "code",
   "execution_count": 13,
   "metadata": {},
   "outputs": [
    {
     "data": {
      "text/plain": [
       "(1928, 5)"
      ]
     },
     "execution_count": 13,
     "metadata": {},
     "output_type": "execute_result"
    }
   ],
   "source": [
    "# проверим объем полученных данных всего данных 3214 если 60%  то получается 1928 все верно\n",
    "df_train.shape"
   ]
  },
  {
   "attachments": {},
   "cell_type": "markdown",
   "metadata": {},
   "source": [
    "<div class=\"alert alert-info\">\n",
    "<font size=\"5\"><b>Исправление №1</b></font>\n",
    "сделана проверка полноты данных на тренеровочной выборке \n",
    "</div>"
   ]
  },
  {
   "cell_type": "code",
   "execution_count": 14,
   "metadata": {},
   "outputs": [
    {
     "data": {
      "text/plain": [
       "(1286, 5)"
      ]
     },
     "execution_count": 14,
     "metadata": {},
     "output_type": "execute_result"
    }
   ],
   "source": [
    "# проверим объем полученных данных всего данных 3214 если 40%  то получается 1286 все верно\n",
    "df_never.shape"
   ]
  },
  {
   "attachments": {},
   "cell_type": "markdown",
   "metadata": {},
   "source": [
    "<div class=\"alert alert-info\">\n",
    "<font size=\"5\"><b>Исправление №1</b></font>\n",
    "сделана проверка полноты данных на промежуточной выборке \n",
    "</div>"
   ]
  },
  {
   "cell_type": "code",
   "execution_count": 15,
   "metadata": {},
   "outputs": [],
   "source": [
    "# отделим по 20% на валидную и тестовую выборку\n",
    "df_valid, df_test = train_test_split(df_never,test_size=0.5, random_state = 12345)"
   ]
  },
  {
   "cell_type": "code",
   "execution_count": 16,
   "metadata": {},
   "outputs": [
    {
     "data": {
      "text/plain": [
       "(643, 5)"
      ]
     },
     "execution_count": 16,
     "metadata": {},
     "output_type": "execute_result"
    }
   ],
   "source": [
    "# проверим объем полученных данных всего данных 3214 если 20%  то получается 643 все верно\n",
    "df_valid.shape"
   ]
  },
  {
   "attachments": {},
   "cell_type": "markdown",
   "metadata": {},
   "source": [
    "<div class=\"alert alert-info\">\n",
    "<font size=\"5\"><b>Исправление №1</b></font>\n",
    "сделана проверка полноты данных на валидной выборке \n",
    "</div>"
   ]
  },
  {
   "cell_type": "code",
   "execution_count": 17,
   "metadata": {},
   "outputs": [
    {
     "data": {
      "text/plain": [
       "(643, 5)"
      ]
     },
     "execution_count": 17,
     "metadata": {},
     "output_type": "execute_result"
    }
   ],
   "source": [
    "# проверим объем полученных данных всего данных 3214 если 20%  то получается 643 все верно\n",
    "df_test.shape"
   ]
  },
  {
   "attachments": {},
   "cell_type": "markdown",
   "metadata": {},
   "source": [
    "<div class=\"alert alert-info\">\n",
    "<font size=\"5\"><b>Исправление №1</b></font>\n",
    "сделана проверка полноты данных на тестовой выборке \n",
    "</div>"
   ]
  },
  {
   "cell_type": "code",
   "execution_count": 18,
   "metadata": {},
   "outputs": [],
   "source": [
    "# Определим признаки выборки для обучения, валидации и теста\n",
    "features_train = df_train.drop(['is_ultra'],axis=1)\n",
    "features_valid = df_valid.drop(['is_ultra'],axis=1)\n",
    "features_test  = df_test.drop(['is_ultra'],axis=1)"
   ]
  },
  {
   "cell_type": "code",
   "execution_count": 19,
   "metadata": {},
   "outputs": [],
   "source": [
    "# Определим целевой признак\n",
    "target_train = df_train['is_ultra']\n",
    "target_valid = df_valid['is_ultra']\n",
    "target_test  = df_test['is_ultra']"
   ]
  },
  {
   "attachments": {},
   "cell_type": "markdown",
   "metadata": {},
   "source": [
    "Вывод: Мы выделили основные признаки и целевой признак для дальнейшего обучения и выбора лучшей модели. Разбили выборки на обучающую, валидационную и тестовую."
   ]
  },
  {
   "attachments": {},
   "cell_type": "markdown",
   "metadata": {},
   "source": [
    "## Исследуйте модели"
   ]
  },
  {
   "cell_type": "code",
   "execution_count": 20,
   "metadata": {},
   "outputs": [],
   "source": [
    "# импортируем модель дерево принятия решений\n",
    "#from sklearn.tree import DecisionTreeClassifier\n",
    "# <Импортируем метод оценки доли правильных ответов>\n",
    "#from sklearn.metrics import accuracy_score"
   ]
  },
  {
   "attachments": {},
   "cell_type": "markdown",
   "metadata": {},
   "source": [
    "<div class=\"alert alert-info\">\n",
    "<font size=\"5\"><b>Исправление №1</b></font>\n",
    "Импорт перенес в верхнюю часть своей работы \n",
    "</div>"
   ]
  },
  {
   "cell_type": "code",
   "execution_count": 21,
   "metadata": {},
   "outputs": [
    {
     "name": "stdout",
     "output_type": "stream",
     "text": [
      "Accuracy: 0.7542768273716952 depth 1\n",
      "Accuracy: 0.7822706065318819 depth 2\n",
      "Accuracy: 0.7853810264385692 depth 3\n",
      "Accuracy: 0.7853810264385692 depth 4\n",
      "Accuracy: 0.7869362363919129 depth 5\n",
      "Accuracy: 0.7884914463452566 depth 6\n",
      "Accuracy: 0.7853810264385692 depth 7\n",
      "Accuracy: 0.7853810264385692 depth 8\n",
      "Accuracy: 0.7853810264385692 depth 9\n",
      "Accuracy: 0.7807153965785381 depth 10\n",
      "Best_resultAccuracy: 0.7884914463452566 depth 6\n"
     ]
    },
    {
     "data": {
      "text/plain": [
       "[]"
      ]
     },
     "execution_count": 21,
     "metadata": {},
     "output_type": "execute_result"
    },
    {
     "data": {
      "image/png": "[encoded data removed]",
      "text/plain": [
       "<Figure size 432x288 with 1 Axes>"
      ]
     },
     "metadata": {
      "needs_background": "light"
     },
     "output_type": "display_data"
    }
   ],
   "source": [
    "# зададим переменные\n",
    "best_result = 0\n",
    "best_depth = 0\n",
    "train_spisok = []\n",
    "valid_spisok = []\n",
    "\n",
    "# сделаем цикл по глубине дерева\n",
    "for depth in range(1,10):\n",
    "    # инициализируем модель \"Дерево принятие решений\"\n",
    "    model = DecisionTreeClassifier(random_state=12345, max_depth = depth, min_samples_split= 110)\n",
    "    # обучаем модель на тренеровочной выборке\n",
    "    model.fit(features_train, target_train)\n",
    "    # получим предсказания на валидной выборке\n",
    "    predictions_valid = model.predict(features_valid)    \n",
    "    accuracy = accuracy_score(target_valid, predictions_valid)\n",
    "    print(\"Accuracy:\", accuracy, \"depth\",depth)\n",
    "    if accuracy > best_result:\n",
    "        best_result = accuracy\n",
    "        best_depth = depth\n",
    "print(\"Best_resultAccuracy:\", best_result, \"depth\", best_depth)\n",
    "plt.plot()"
   ]
  },
  {
   "attachments": {},
   "cell_type": "markdown",
   "metadata": {},
   "source": [
    "доля правильных ответов 78,84% при глубине дерева равной 6. Любые опыты с критерием и весом классов (balanced) ухудшали результат при min_samples_split = 100."
   ]
  },
  {
   "cell_type": "code",
   "execution_count": 37,
   "metadata": {},
   "outputs": [
    {
     "data": {
      "text/plain": [
       "[<matplotlib.lines.Line2D at 0x7fcd2a2f1160>]"
      ]
     },
     "execution_count": 37,
     "metadata": {},
     "output_type": "execute_result"
    },
    {
     "data": {
      "image/png": "[encoded data removed]",
      "text/plain": [
       "<Figure size 720x432 with 1 Axes>"
      ]
     },
     "metadata": {
      "needs_background": "light"
     },
     "output_type": "display_data"
    }
   ],
   "source": [
    "plt.figure(figsize=(10, 6))\n",
    "plt.plot(target_valid, predictions_valid, \"g\", lw=2)\n"
   ]
  },
  {
   "cell_type": "code",
   "execution_count": 23,
   "metadata": {},
   "outputs": [],
   "source": [
    "# импортируем модель случайный лес\n",
    "#from sklearn.ensemble import RandomForestClassifier"
   ]
  },
  {
   "attachments": {},
   "cell_type": "markdown",
   "metadata": {},
   "source": [
    "<div class=\"alert alert-info\">\n",
    "<font size=\"5\"><b>Исправление №1</b></font>\n",
    "Импорт перенес в верхнюю часть своей работы \n",
    "</div>"
   ]
  },
  {
   "cell_type": "code",
   "execution_count": 24,
   "metadata": {
    "collapsed": true
   },
   "outputs": [
    {
     "name": "stdout",
     "output_type": "stream",
     "text": [
      "Accuracy: 0.7558320373250389 est 10 depth 1\n",
      "Accuracy: 0.7776049766718507 est 10 depth 2\n",
      "Accuracy: 0.7853810264385692 est 10 depth 3\n",
      "Accuracy: 0.7900466562986003 est 10 depth 4\n",
      "Accuracy: 0.7931570762052877 est 10 depth 5\n",
      "Accuracy: 0.8009331259720062 est 10 depth 6\n",
      "Accuracy: 0.7947122861586314 est 10 depth 7\n",
      "Accuracy: 0.7962674961119751 est 10 depth 8\n",
      "Accuracy: 0.7853810264385692 est 10 depth 9\n",
      "Accuracy: 0.7916018662519441 est 10 depth 10\n",
      "Accuracy: 0.7667185069984448 est 20 depth 1\n",
      "Accuracy: 0.7838258164852255 est 20 depth 2\n",
      "Accuracy: 0.7869362363919129 est 20 depth 3\n",
      "Accuracy: 0.7884914463452566 est 20 depth 4\n",
      "Accuracy: 0.7900466562986003 est 20 depth 5\n",
      "Accuracy: 0.7993779160186625 est 20 depth 6\n",
      "Accuracy: 0.8009331259720062 est 20 depth 7\n",
      "Accuracy: 0.7978227060653188 est 20 depth 8\n",
      "Accuracy: 0.7900466562986003 est 20 depth 9\n",
      "Accuracy: 0.7916018662519441 est 20 depth 10\n",
      "Accuracy: 0.7667185069984448 est 30 depth 1\n",
      "Accuracy: 0.7838258164852255 est 30 depth 2\n",
      "Accuracy: 0.7869362363919129 est 30 depth 3\n",
      "Accuracy: 0.7869362363919129 est 30 depth 4\n",
      "Accuracy: 0.7931570762052877 est 30 depth 5\n",
      "Accuracy: 0.8009331259720062 est 30 depth 6\n",
      "Accuracy: 0.80248833592535 est 30 depth 7\n",
      "Accuracy: 0.7993779160186625 est 30 depth 8\n",
      "Accuracy: 0.7931570762052877 est 30 depth 9\n",
      "Accuracy: 0.7947122861586314 est 30 depth 10\n",
      "Accuracy: 0.776049766718507 est 40 depth 1\n",
      "Accuracy: 0.7853810264385692 est 40 depth 2\n",
      "Accuracy: 0.7869362363919129 est 40 depth 3\n",
      "Accuracy: 0.7900466562986003 est 40 depth 4\n",
      "Accuracy: 0.7947122861586314 est 40 depth 5\n",
      "Accuracy: 0.80248833592535 est 40 depth 6\n",
      "Accuracy: 0.80248833592535 est 40 depth 7\n",
      "Accuracy: 0.8087091757387247 est 40 depth 8\n",
      "Accuracy: 0.7947122861586314 est 40 depth 9\n",
      "Accuracy: 0.7962674961119751 est 40 depth 10\n",
      "Best_result_Accuracy: 0.8087091757387247 est 40 best_depth 8\n"
     ]
    }
   ],
   "source": [
    "# зададим переменные\n",
    "best_result = 0\n",
    "best_depth = 0\n",
    "\n",
    "# сделаем цикл по количеству деревьев 10 до 50 с шагом 10\n",
    "for est in range(10,30,2):\n",
    "    for depth in range(1,11):\n",
    "        # инициализируем модель \"Дерево случайный лес\"\n",
    "        model = RandomForestClassifier(random_state = 12345, n_estimators = est, max_depth=depth)\n",
    "        # обучаем модель на тренеровочной выборке\n",
    "        model.fit(features_train,target_train)\n",
    "        # получим предсказания на валидной выборке\n",
    "        prediction_valid = model.predict(features_valid)\n",
    "        # посчитаем значение на валидационной выборке\n",
    "        accuracy = accuracy_score(target_valid, prediction_valid)\n",
    "        print(\"Accuracy:\", accuracy, \"est\", est, \"depth\",depth)\n",
    "        if accuracy > best_result:\n",
    "            best_result = accuracy\n",
    "            best_depth = depth\n",
    "print(\"Best_result_Accuracy:\", best_result, \"est\", est, \"best_depth\", best_depth)"
   ]
  },
  {
   "attachments": {},
   "cell_type": "markdown",
   "metadata": {},
   "source": [
    "Результат равен 80,87% количество деревьев 40 и максимальной глубиной 8 немного лучше. Проверим эту модель на тестовой выборке."
   ]
  },
  {
   "cell_type": "code",
   "execution_count": 25,
   "metadata": {},
   "outputs": [],
   "source": [
    "# Импортируем алгоритм случайного поиска по гиперпараметрам\n",
    "#from sklearn.model_selection import RandomizedSearchCV"
   ]
  },
  {
   "attachments": {},
   "cell_type": "markdown",
   "metadata": {},
   "source": [
    "<div class=\"alert alert-info\">\n",
    "<font size=\"5\"><b>Исправление №1</b></font>\n",
    "Импорт перенес в верхнюю часть своей работы \n",
    "</div>"
   ]
  },
  {
   "cell_type": "code",
   "execution_count": 26,
   "metadata": {},
   "outputs": [],
   "source": [
    "# сетка гиперпараметров, по которой будет происходит случайный поиск\n",
    "param_grid = {\n",
    "    'n_estimators': np.linspace(2, 100).astype(int),\n",
    "    'max_depth': [None] + list(np.linspace(2, 10).astype(int)),\n",
    "    'max_features': ['auto', 'sqrt', None] + list(np.arange(0, 5, 1)),\n",
    "    'max_leaf_nodes': [None] + list(np.linspace(10, 50, 500).astype(int)),\n",
    "    'min_samples_split': [2, 5, 10],\n",
    "    'bootstrap': [True, False]\n",
    "}"
   ]
  },
  {
   "attachments": {},
   "cell_type": "markdown",
   "metadata": {},
   "source": [
    "<div class=\"alert alert-info\">\n",
    "<font size=\"5\"><b>Исправление №1</b></font>\n",
    "Ошибка исправлена, забыл перенести (вставить) импорт np для работы кода\n",
    "</div>"
   ]
  },
  {
   "cell_type": "code",
   "execution_count": 27,
   "metadata": {},
   "outputs": [],
   "source": [
    "# дерево случайный лес к которому будем подбирать параметры\n",
    "estimator = RandomForestClassifier(random_state = 12345)"
   ]
  },
  {
   "cell_type": "code",
   "execution_count": 28,
   "metadata": {},
   "outputs": [],
   "source": [
    "# модель\n",
    "rs = RandomizedSearchCV(estimator, param_grid, random_state=12345)"
   ]
  },
  {
   "cell_type": "code",
   "execution_count": 29,
   "metadata": {},
   "outputs": [
    {
     "data": {
      "text/plain": [
       "RandomizedSearchCV(estimator=RandomForestClassifier(random_state=12345),\n",
       "                   param_distributions={'bootstrap': [True, False],\n",
       "                                        'max_depth': [None, 2, 2, 2, 2, 2, 2, 2,\n",
       "                                                      3, 3, 3, 3, 3, 3, 4, 4, 4,\n",
       "                                                      4, 4, 4, 5, 5, 5, 5, 5, 5,\n",
       "                                                      6, 6, 6, 6, ...],\n",
       "                                        'max_features': ['auto', 'sqrt', None,\n",
       "                                                         0, 1, 2, 3, 4],\n",
       "                                        'max_leaf_nodes': [None, 10, 10, 10, 10,\n",
       "                                                           10, 10, 10, 10, 10,\n",
       "                                                           10, 10, 10, 10, 11,\n",
       "                                                           11, 11, 11, 11, 11,\n",
       "                                                           11, 11, 11, 11, 11,\n",
       "                                                           11, 12, 12, 12, 12, ...],\n",
       "                                        'min_samples_split': [2, 5, 10],\n",
       "                                        'n_estimators': array([  2,   4,   6,   8,  10,  12,  14,  16,  18,  20,  22,  24,  26,\n",
       "        28,  30,  32,  34,  36,  38,  40,  42,  44,  46,  48,  50,  52,\n",
       "        54,  56,  58,  60,  62,  64,  66,  68,  70,  72,  74,  76,  78,\n",
       "        80,  82,  84,  86,  88,  90,  92,  94,  96,  98, 100])},\n",
       "                   random_state=12345)"
      ]
     },
     "execution_count": 29,
     "metadata": {},
     "output_type": "execute_result"
    }
   ],
   "source": [
    "# обучаем модель \n",
    "rs.fit(features_train, target_train)"
   ]
  },
  {
   "cell_type": "code",
   "execution_count": 30,
   "metadata": {},
   "outputs": [
    {
     "data": {
      "text/plain": [
       "{'n_estimators': 84,\n",
       " 'min_samples_split': 5,\n",
       " 'max_leaf_nodes': 17,\n",
       " 'max_features': 3,\n",
       " 'max_depth': 8,\n",
       " 'bootstrap': True}"
      ]
     },
     "execution_count": 30,
     "metadata": {},
     "output_type": "execute_result"
    }
   ],
   "source": [
    "# набор параметров, которые подобрал случайный поиск\n",
    "rs.best_params_"
   ]
  },
  {
   "cell_type": "code",
   "execution_count": 31,
   "metadata": {},
   "outputs": [
    {
     "name": "stdout",
     "output_type": "stream",
     "text": [
      "Accuracy: 0.7900466562986003\n"
     ]
    }
   ],
   "source": [
    "# предскажем целевой признак и подсчитаем долю правильных ответов.\n",
    "predictions = rs.predict(features_valid)\n",
    "accuracy = accuracy_score(target_valid, predictions)\n",
    "print(\"Accuracy:\", accuracy)"
   ]
  },
  {
   "attachments": {},
   "cell_type": "markdown",
   "metadata": {},
   "source": [
    "Вывод: Результат получили немного хуче, но все равно проверим его на тестовой выборке"
   ]
  },
  {
   "cell_type": "code",
   "execution_count": 32,
   "metadata": {},
   "outputs": [],
   "source": [
    "# <Импортируем метод логистической регрессии>\n",
    "#from sklearn.linear_model import LogisticRegression"
   ]
  },
  {
   "attachments": {},
   "cell_type": "markdown",
   "metadata": {},
   "source": [
    "<div class=\"alert alert-info\">\n",
    "<font size=\"5\"><b>Исправление №1</b></font>\n",
    "Импорт перенес в верхнюю часть своей работы \n",
    "</div>"
   ]
  },
  {
   "cell_type": "code",
   "execution_count": 33,
   "metadata": {},
   "outputs": [
    {
     "name": "stdout",
     "output_type": "stream",
     "text": [
      "Accuracy: 0.7107309486780715\n"
     ]
    }
   ],
   "source": [
    "model = LogisticRegression(random_state=12345)\n",
    "# обучаем модель на тренеровочной выборке\n",
    "model.fit(features_train,target_train)\n",
    "# получим предсказания на валидной выборке\n",
    "prediction_valid = model.predict(features_valid)\n",
    "# получим предсказания на валидной выборке\n",
    "prediction_valid = model.predict(features_valid)\n",
    "# посчитаем значение на валидационной выборке\n",
    "accuracy = accuracy_score(target_valid, prediction_valid)\n",
    "print(\"Accuracy:\", accuracy)"
   ]
  },
  {
   "attachments": {},
   "cell_type": "markdown",
   "metadata": {},
   "source": [
    "Результат получили хуче чем у остальных.Я осмотрел некоторые гиперпараметры типа solver, class_weight, max_iter и попробовал покрутить их, но они или давали тот же самый результат или еще сильней ухудшали его"
   ]
  },
  {
   "attachments": {},
   "cell_type": "markdown",
   "metadata": {},
   "source": [
    "Вывод:\n",
    " - Обучил дерево принятие решений на тренеровочной выборке и проверил результат на валидной выборке доля правильных ответов 78,84% при глубине дерева равной 6\n",
    " - обучил дерево случайный лес. Результат равен 80,87% количество деревьев 40 и максимальной глубиной 8\n",
    " - Построил модель на Логистической регрессии, результат самый низкий 71,07%.\n",
    " - Открыл для себя несколько  интересных методов, гиперпараметров, потренировались подбирать параметры"
   ]
  },
  {
   "attachments": {},
   "cell_type": "markdown",
   "metadata": {},
   "source": [
    "## Проверьте модель на тестовой выборке"
   ]
  },
  {
   "cell_type": "code",
   "execution_count": 34,
   "metadata": {},
   "outputs": [
    {
     "name": "stdout",
     "output_type": "stream",
     "text": [
      "Accuracy: 0.7962674961119751\n"
     ]
    }
   ],
   "source": [
    "# для проверки выберем нашу модель которая набрала самый высокий процент качества \"Дерево случайного леса\"\n",
    "model = RandomForestClassifier(random_state = 12345, n_estimators = 40, max_depth=8)\n",
    "# обучаем модель на тренеровочной выборке\n",
    "model.fit(features_train,target_train)\n",
    "# получим предсказания на валидной выборке\n",
    "prediction_valid = model.predict(features_test)\n",
    "# посчитаем значение на валидационной выборке\n",
    "accuracy = accuracy_score(target_test, prediction_valid)\n",
    "print(\"Accuracy:\", accuracy)"
   ]
  },
  {
   "attachments": {},
   "cell_type": "markdown",
   "metadata": {},
   "source": [
    "Результ получился 79,62%, а сейчас давайте проверим с подбором гиперпараметров"
   ]
  },
  {
   "cell_type": "code",
   "execution_count": 35,
   "metadata": {},
   "outputs": [
    {
     "name": "stdout",
     "output_type": "stream",
     "text": [
      "Accuracy: 0.80248833592535\n"
     ]
    }
   ],
   "source": [
    "# предскажем целевой признак и подсчитаем долю правильных ответов.\n",
    "predictions = rs.predict(features_test)\n",
    "accuracy = accuracy_score(target_test, predictions)\n",
    "print(\"Accuracy:\", accuracy)"
   ]
  },
  {
   "attachments": {},
   "cell_type": "markdown",
   "metadata": {},
   "source": [
    "Результат получился практически приблеженный как сделали на валидной выборке. \n",
    "\n",
    "Вывод: Модель которая подбиралась гиперпараметрами показывает немного лучше результат, чем та которой мы подобрали глубину и количество деревьев. Мы проверили две лучшие модели на тестовой выборке и получили высокий результат!"
   ]
  },
  {
   "attachments": {},
   "cell_type": "markdown",
   "metadata": {},
   "source": [
    "## (бонус) Проверьте модели на адекватность"
   ]
  },
  {
   "cell_type": "code",
   "execution_count": 36,
   "metadata": {},
   "outputs": [
    {
     "name": "stdout",
     "output_type": "stream",
     "text": [
      "accuracy = 0.5132\n"
     ]
    }
   ],
   "source": [
    "random_predictions = np.random.randint(low = 0, high = 2, size = 643) \n",
    "\n",
    "# <подсчитаем долю правильных ответов.>\n",
    "accuracy = accuracy_score(target_test, random_predictions)\n",
    "\n",
    "# <выведем долю правильных ответов>\n",
    "print('accuracy =','{:.4f}'.format(accuracy))"
   ]
  },
  {
   "attachments": {},
   "cell_type": "markdown",
   "metadata": {},
   "source": [
    "Как видим случайные ответы ошибаются примерно в 48,37% случаев. Наша модель ошибается реже - только лишь в 19% случаев."
   ]
  },
  {
   "attachments": {},
   "cell_type": "markdown",
   "metadata": {},
   "source": [
    "## Чек-лист готовности проекта"
   ]
  },
  {
   "attachments": {},
   "cell_type": "markdown",
   "metadata": {},
   "source": [
    "Поставьте 'x' в выполненных пунктах. Далее нажмите Shift+Enter."
   ]
  },
  {
   "attachments": {},
   "cell_type": "markdown",
   "metadata": {},
   "source": [
    "- [x] Jupyter Notebook открыт\n",
    "- [ ] Весь код исполняется без ошибок\n",
    "- [ ] Ячейки с кодом расположены в порядке исполнения\n",
    "- [ ] Выполнено задание 1: данные загружены и изучены\n",
    "- [ ] Выполнено задание 2: данные разбиты на три выборки\n",
    "- [ ] Выполнено задание 3: проведено исследование моделей\n",
    "    - [ ] Рассмотрено больше одной модели\n",
    "    - [ ] Рассмотрено хотя бы 3 значения гипепараметров для какой-нибудь модели\n",
    "    - [ ] Написаны выводы по результатам исследования\n",
    "- [ ] Выполнено задание 3: Проведено тестирование\n",
    "- [ ] Удалось достичь accuracy не меньше 0.75\n"
   ]
  },
  {
   "attachments": {},
   "cell_type": "markdown",
   "metadata": {},
   "source": [
    "Обший вывод: Подготовленная модель \"Случайный лес\" показала хорошие рещультаты для дальнейшего применения в бизнес-Задачах и прошла валидацию качества"
   ]
  },
  {
   "cell_type": "code",
   "execution_count": null,
   "metadata": {},
   "outputs": [],
   "source": []
  }
 ],
 "metadata": {
  "ExecuteTimeLog": [
   {
    "duration": 374,
    "start_time": "2023-04-08T01:26:48.360Z"
   },
   {
    "duration": 60,
    "start_time": "2023-04-08T01:26:50.620Z"
   },
   {
    "duration": 128,
    "start_time": "2023-04-08T01:26:57.775Z"
   },
   {
    "duration": 17,
    "start_time": "2023-04-08T01:27:12.419Z"
   },
   {
    "duration": 10,
    "start_time": "2023-04-08T01:30:31.571Z"
   },
   {
    "duration": 7,
    "start_time": "2023-04-08T01:32:55.850Z"
   },
   {
    "duration": 1008,
    "start_time": "2023-04-08T01:33:07.345Z"
   },
   {
    "duration": 5,
    "start_time": "2023-04-08T01:50:10.518Z"
   },
   {
    "duration": 4,
    "start_time": "2023-04-08T01:50:36.801Z"
   },
   {
    "duration": 7,
    "start_time": "2023-04-08T01:51:15.692Z"
   },
   {
    "duration": 12,
    "start_time": "2023-04-08T01:52:26.965Z"
   },
   {
    "duration": 12,
    "start_time": "2023-04-08T01:52:34.865Z"
   },
   {
    "duration": 9,
    "start_time": "2023-04-08T02:00:58.564Z"
   },
   {
    "duration": 12,
    "start_time": "2023-04-08T02:01:07.962Z"
   },
   {
    "duration": 5,
    "start_time": "2023-04-08T02:01:47.687Z"
   },
   {
    "duration": 11,
    "start_time": "2023-04-08T02:05:27.370Z"
   },
   {
    "duration": 723,
    "start_time": "2023-04-08T02:22:15.826Z"
   },
   {
    "duration": 4,
    "start_time": "2023-04-08T02:22:18.313Z"
   },
   {
    "duration": 3,
    "start_time": "2023-04-08T02:22:20.972Z"
   },
   {
    "duration": 57,
    "start_time": "2023-04-08T02:47:04.454Z"
   },
   {
    "duration": 2,
    "start_time": "2023-04-08T02:51:39.857Z"
   },
   {
    "duration": 4,
    "start_time": "2023-04-08T02:52:28.209Z"
   },
   {
    "duration": 4,
    "start_time": "2023-04-08T02:52:59.401Z"
   },
   {
    "duration": 9,
    "start_time": "2023-04-08T02:53:14.621Z"
   },
   {
    "duration": 8,
    "start_time": "2023-04-08T02:53:29.545Z"
   },
   {
    "duration": 7,
    "start_time": "2023-04-08T02:53:44.060Z"
   },
   {
    "duration": 6,
    "start_time": "2023-04-08T02:54:53.224Z"
   },
   {
    "duration": 3,
    "start_time": "2023-04-08T02:54:56.687Z"
   },
   {
    "duration": 102,
    "start_time": "2023-04-08T02:55:12.204Z"
   },
   {
    "duration": 4,
    "start_time": "2023-04-08T02:55:31.669Z"
   },
   {
    "duration": 3,
    "start_time": "2023-04-08T02:55:34.760Z"
   },
   {
    "duration": 8,
    "start_time": "2023-04-08T02:55:36.702Z"
   },
   {
    "duration": 4,
    "start_time": "2023-04-08T02:56:01.904Z"
   },
   {
    "duration": 7,
    "start_time": "2023-04-08T02:56:04.040Z"
   },
   {
    "duration": 4,
    "start_time": "2023-04-08T02:56:16.240Z"
   },
   {
    "duration": 7,
    "start_time": "2023-04-08T02:56:18.164Z"
   },
   {
    "duration": 6,
    "start_time": "2023-04-08T02:56:22.052Z"
   },
   {
    "duration": 6,
    "start_time": "2023-04-08T03:03:59.638Z"
   },
   {
    "duration": 8,
    "start_time": "2023-04-08T03:08:23.745Z"
   },
   {
    "duration": 6,
    "start_time": "2023-04-08T03:08:52.310Z"
   },
   {
    "duration": 4,
    "start_time": "2023-04-08T03:12:15.493Z"
   },
   {
    "duration": 4,
    "start_time": "2023-04-08T03:45:28.404Z"
   },
   {
    "duration": 5,
    "start_time": "2023-04-08T03:45:30.379Z"
   },
   {
    "duration": 37,
    "start_time": "2023-04-08T03:45:32.232Z"
   },
   {
    "duration": 3,
    "start_time": "2023-04-08T03:57:17.023Z"
   },
   {
    "duration": 17,
    "start_time": "2023-04-08T04:01:11.012Z"
   },
   {
    "duration": 26,
    "start_time": "2023-04-08T04:02:33.625Z"
   },
   {
    "duration": 4,
    "start_time": "2023-04-08T04:03:20.208Z"
   },
   {
    "duration": 29,
    "start_time": "2023-04-08T04:03:57.888Z"
   },
   {
    "duration": 3,
    "start_time": "2023-04-08T04:04:00.276Z"
   },
   {
    "duration": 27,
    "start_time": "2023-04-08T04:04:05.760Z"
   },
   {
    "duration": 4,
    "start_time": "2023-04-08T04:04:08.708Z"
   },
   {
    "duration": 26,
    "start_time": "2023-04-08T04:04:13.347Z"
   },
   {
    "duration": 4,
    "start_time": "2023-04-08T04:04:16.308Z"
   },
   {
    "duration": 47,
    "start_time": "2023-04-08T04:05:20.277Z"
   },
   {
    "duration": 4,
    "start_time": "2023-04-08T04:05:22.992Z"
   },
   {
    "duration": 67,
    "start_time": "2023-04-08T04:05:30.688Z"
   },
   {
    "duration": 3,
    "start_time": "2023-04-08T04:05:33.940Z"
   },
   {
    "duration": 74,
    "start_time": "2023-04-08T04:16:40.048Z"
   },
   {
    "duration": 11,
    "start_time": "2023-04-08T04:16:49.910Z"
   },
   {
    "duration": 10,
    "start_time": "2023-04-08T04:17:03.982Z"
   },
   {
    "duration": 13,
    "start_time": "2023-04-08T04:17:33.810Z"
   },
   {
    "duration": 10,
    "start_time": "2023-04-08T04:18:07.538Z"
   },
   {
    "duration": 13,
    "start_time": "2023-04-08T04:18:34.670Z"
   },
   {
    "duration": 28,
    "start_time": "2023-04-08T04:18:35.997Z"
   },
   {
    "duration": 3006,
    "start_time": "2023-04-08T04:19:15.853Z"
   },
   {
    "duration": 4,
    "start_time": "2023-04-08T04:19:30.381Z"
   },
   {
    "duration": 72,
    "start_time": "2023-04-08T04:25:06.214Z"
   },
   {
    "duration": 76,
    "start_time": "2023-04-08T04:26:10.621Z"
   },
   {
    "duration": 43,
    "start_time": "2023-04-08T04:27:26.406Z"
   },
   {
    "duration": 3,
    "start_time": "2023-04-08T04:27:38.546Z"
   },
   {
    "duration": 73,
    "start_time": "2023-04-08T04:30:56.098Z"
   },
   {
    "duration": 4,
    "start_time": "2023-04-08T04:30:59.254Z"
   },
   {
    "duration": 82,
    "start_time": "2023-04-08T04:31:08.754Z"
   },
   {
    "duration": 75,
    "start_time": "2023-04-08T04:31:13.031Z"
   },
   {
    "duration": 4,
    "start_time": "2023-04-08T04:31:15.094Z"
   },
   {
    "duration": 79,
    "start_time": "2023-04-08T04:31:55.982Z"
   },
   {
    "duration": 4,
    "start_time": "2023-04-08T04:31:58.166Z"
   },
   {
    "duration": 84,
    "start_time": "2023-04-08T04:32:45.466Z"
   },
   {
    "duration": 21,
    "start_time": "2023-04-08T04:35:39.850Z"
   },
   {
    "duration": 74,
    "start_time": "2023-04-08T04:36:15.994Z"
   },
   {
    "duration": 4,
    "start_time": "2023-04-08T04:36:19.538Z"
   },
   {
    "duration": 21,
    "start_time": "2023-04-08T04:37:49.958Z"
   },
   {
    "duration": 20,
    "start_time": "2023-04-08T04:38:13.490Z"
   },
   {
    "duration": 19,
    "start_time": "2023-04-08T04:38:31.998Z"
   },
   {
    "duration": 105,
    "start_time": "2023-04-08T04:39:27.162Z"
   },
   {
    "duration": 4,
    "start_time": "2023-04-08T04:39:30.898Z"
   },
   {
    "duration": 82,
    "start_time": "2023-04-08T04:39:47.885Z"
   },
   {
    "duration": 3,
    "start_time": "2023-04-08T04:39:51.410Z"
   },
   {
    "duration": 85,
    "start_time": "2023-04-08T04:41:14.405Z"
   },
   {
    "duration": 4,
    "start_time": "2023-04-08T04:41:17.346Z"
   },
   {
    "duration": 84,
    "start_time": "2023-04-08T04:41:27.987Z"
   },
   {
    "duration": 4,
    "start_time": "2023-04-08T04:41:30.398Z"
   },
   {
    "duration": 88,
    "start_time": "2023-04-08T04:42:02.638Z"
   },
   {
    "duration": 4,
    "start_time": "2023-04-08T04:42:04.866Z"
   },
   {
    "duration": 87,
    "start_time": "2023-04-08T04:42:18.293Z"
   },
   {
    "duration": 4,
    "start_time": "2023-04-08T04:42:20.825Z"
   },
   {
    "duration": 73,
    "start_time": "2023-04-08T04:43:10.854Z"
   },
   {
    "duration": 4,
    "start_time": "2023-04-08T04:43:12.890Z"
   },
   {
    "duration": 21,
    "start_time": "2023-04-08T04:47:04.750Z"
   },
   {
    "duration": 17,
    "start_time": "2023-04-08T04:47:58.342Z"
   },
   {
    "duration": 2,
    "start_time": "2023-04-08T04:48:07.814Z"
   },
   {
    "duration": 18,
    "start_time": "2023-04-08T04:48:11.530Z"
   },
   {
    "duration": 9,
    "start_time": "2023-04-08T04:51:18.289Z"
   },
   {
    "duration": 15,
    "start_time": "2023-04-08T04:51:22.949Z"
   },
   {
    "duration": 18,
    "start_time": "2023-04-08T04:51:29.284Z"
   },
   {
    "duration": 13,
    "start_time": "2023-04-08T04:51:35.945Z"
   },
   {
    "duration": 4,
    "start_time": "2023-04-08T04:51:55.061Z"
   },
   {
    "duration": 13,
    "start_time": "2023-04-08T04:52:05.414Z"
   },
   {
    "duration": 3,
    "start_time": "2023-04-08T04:52:08.673Z"
   },
   {
    "duration": 13,
    "start_time": "2023-04-08T04:52:10.276Z"
   },
   {
    "duration": 20,
    "start_time": "2023-04-08T04:52:34.502Z"
   },
   {
    "duration": 62,
    "start_time": "2023-04-08T04:53:32.649Z"
   },
   {
    "duration": 4,
    "start_time": "2023-04-08T04:53:35.789Z"
   },
   {
    "duration": 77,
    "start_time": "2023-04-08T04:53:50.973Z"
   },
   {
    "duration": 4,
    "start_time": "2023-04-08T04:53:53.226Z"
   },
   {
    "duration": 61,
    "start_time": "2023-04-08T04:54:16.177Z"
   },
   {
    "duration": 3,
    "start_time": "2023-04-08T04:54:18.447Z"
   },
   {
    "duration": 72,
    "start_time": "2023-04-08T04:54:25.839Z"
   },
   {
    "duration": 5,
    "start_time": "2023-04-08T04:54:27.952Z"
   },
   {
    "duration": 60,
    "start_time": "2023-04-08T04:54:35.737Z"
   },
   {
    "duration": 4,
    "start_time": "2023-04-08T04:54:37.989Z"
   },
   {
    "duration": 4,
    "start_time": "2023-04-08T04:55:14.707Z"
   },
   {
    "duration": 63,
    "start_time": "2023-04-08T04:55:18.209Z"
   },
   {
    "duration": 3,
    "start_time": "2023-04-08T04:55:20.513Z"
   },
   {
    "duration": 3080,
    "start_time": "2023-04-08T04:55:23.386Z"
   },
   {
    "duration": 4,
    "start_time": "2023-04-08T04:55:27.105Z"
   },
   {
    "duration": 13,
    "start_time": "2023-04-08T04:55:58.041Z"
   },
   {
    "duration": 49,
    "start_time": "2023-04-08T04:56:28.177Z"
   },
   {
    "duration": 49,
    "start_time": "2023-04-08T04:56:38.097Z"
   },
   {
    "duration": 13,
    "start_time": "2023-04-08T04:56:50.913Z"
   },
   {
    "duration": 3,
    "start_time": "2023-04-08T04:56:52.813Z"
   },
   {
    "duration": 62,
    "start_time": "2023-04-08T04:57:00.777Z"
   },
   {
    "duration": 17,
    "start_time": "2023-04-08T04:57:09.265Z"
   },
   {
    "duration": 63,
    "start_time": "2023-04-08T04:57:14.392Z"
   },
   {
    "duration": 3,
    "start_time": "2023-04-08T04:57:19.749Z"
   },
   {
    "duration": 66,
    "start_time": "2023-04-08T04:57:26.997Z"
   },
   {
    "duration": 3,
    "start_time": "2023-04-08T04:57:29.177Z"
   },
   {
    "duration": 3,
    "start_time": "2023-04-08T05:00:59.981Z"
   },
   {
    "duration": 18,
    "start_time": "2023-04-08T05:01:01.956Z"
   },
   {
    "duration": 4,
    "start_time": "2023-04-08T12:41:34.245Z"
   },
   {
    "duration": 6,
    "start_time": "2023-04-08T12:42:51.284Z"
   },
   {
    "duration": 5,
    "start_time": "2023-04-08T12:43:20.309Z"
   },
   {
    "duration": 5,
    "start_time": "2023-04-08T12:44:29.905Z"
   },
   {
    "duration": 3,
    "start_time": "2023-04-08T12:44:32.245Z"
   },
   {
    "duration": 5,
    "start_time": "2023-04-08T12:45:01.100Z"
   },
   {
    "duration": 18,
    "start_time": "2023-04-08T12:45:45.727Z"
   },
   {
    "duration": 15,
    "start_time": "2023-04-08T12:46:25.266Z"
   },
   {
    "duration": 2,
    "start_time": "2023-04-08T12:46:52.751Z"
   },
   {
    "duration": 5,
    "start_time": "2023-04-08T12:46:55.216Z"
   },
   {
    "duration": 5,
    "start_time": "2023-04-08T12:46:58.341Z"
   },
   {
    "duration": 4,
    "start_time": "2023-04-08T12:47:04.717Z"
   },
   {
    "duration": 3,
    "start_time": "2023-04-08T12:47:07.592Z"
   },
   {
    "duration": 13,
    "start_time": "2023-04-08T12:47:13.113Z"
   },
   {
    "duration": 12,
    "start_time": "2023-04-08T12:47:23.868Z"
   },
   {
    "duration": 4,
    "start_time": "2023-04-08T12:47:27.768Z"
   },
   {
    "duration": 5,
    "start_time": "2023-04-08T12:47:30.793Z"
   },
   {
    "duration": 4,
    "start_time": "2023-04-08T12:47:32.480Z"
   },
   {
    "duration": 4,
    "start_time": "2023-04-08T12:47:34.084Z"
   },
   {
    "duration": 3,
    "start_time": "2023-04-08T12:47:39.596Z"
   },
   {
    "duration": 3,
    "start_time": "2023-04-08T12:47:49.016Z"
   },
   {
    "duration": 12,
    "start_time": "2023-04-08T12:48:42.749Z"
   },
   {
    "duration": 3,
    "start_time": "2023-04-08T12:48:48.853Z"
   },
   {
    "duration": 37,
    "start_time": "2023-04-08T12:48:48.857Z"
   },
   {
    "duration": 9,
    "start_time": "2023-04-08T12:48:48.895Z"
   },
   {
    "duration": 10,
    "start_time": "2023-04-08T12:48:48.906Z"
   },
   {
    "duration": 551,
    "start_time": "2023-04-08T12:48:48.918Z"
   },
   {
    "duration": 11,
    "start_time": "2023-04-08T12:48:49.470Z"
   },
   {
    "duration": 7,
    "start_time": "2023-04-08T12:48:49.482Z"
   },
   {
    "duration": 9,
    "start_time": "2023-04-08T12:48:49.490Z"
   },
   {
    "duration": 9,
    "start_time": "2023-04-08T12:48:49.500Z"
   },
   {
    "duration": 25,
    "start_time": "2023-04-08T12:48:49.510Z"
   },
   {
    "duration": 5,
    "start_time": "2023-04-08T12:48:49.537Z"
   },
   {
    "duration": 10,
    "start_time": "2023-04-08T12:48:49.543Z"
   },
   {
    "duration": 7,
    "start_time": "2023-04-08T12:48:49.555Z"
   },
   {
    "duration": 5,
    "start_time": "2023-04-08T12:48:49.563Z"
   },
   {
    "duration": 11,
    "start_time": "2023-04-08T12:48:49.570Z"
   },
   {
    "duration": 12,
    "start_time": "2023-04-08T12:48:49.583Z"
   },
   {
    "duration": 11,
    "start_time": "2023-04-08T12:48:49.596Z"
   },
   {
    "duration": 22,
    "start_time": "2023-04-08T12:48:49.608Z"
   },
   {
    "duration": 0,
    "start_time": "2023-04-08T12:48:49.631Z"
   },
   {
    "duration": 0,
    "start_time": "2023-04-08T12:48:49.632Z"
   },
   {
    "duration": 0,
    "start_time": "2023-04-08T12:48:49.633Z"
   },
   {
    "duration": 0,
    "start_time": "2023-04-08T12:48:49.635Z"
   },
   {
    "duration": 0,
    "start_time": "2023-04-08T12:48:49.636Z"
   },
   {
    "duration": 5,
    "start_time": "2023-04-08T12:50:11.568Z"
   },
   {
    "duration": 5,
    "start_time": "2023-04-08T12:50:14.268Z"
   },
   {
    "duration": 4,
    "start_time": "2023-04-08T12:50:14.794Z"
   },
   {
    "duration": 3,
    "start_time": "2023-04-08T12:50:15.224Z"
   },
   {
    "duration": 4,
    "start_time": "2023-04-08T12:50:15.752Z"
   },
   {
    "duration": 3,
    "start_time": "2023-04-08T12:50:16.548Z"
   },
   {
    "duration": 5,
    "start_time": "2023-04-08T12:50:45.316Z"
   },
   {
    "duration": 5,
    "start_time": "2023-04-08T12:50:46.956Z"
   },
   {
    "duration": 3,
    "start_time": "2023-04-08T12:50:48.904Z"
   },
   {
    "duration": 3,
    "start_time": "2023-04-08T12:50:51.000Z"
   },
   {
    "duration": 3,
    "start_time": "2023-04-08T12:50:54.513Z"
   },
   {
    "duration": 3,
    "start_time": "2023-04-08T12:51:42.044Z"
   },
   {
    "duration": 2,
    "start_time": "2023-04-08T12:52:09.767Z"
   },
   {
    "duration": 56,
    "start_time": "2023-04-08T12:52:09.774Z"
   },
   {
    "duration": 10,
    "start_time": "2023-04-08T12:52:09.832Z"
   },
   {
    "duration": 30,
    "start_time": "2023-04-08T12:52:09.844Z"
   },
   {
    "duration": 600,
    "start_time": "2023-04-08T12:52:09.876Z"
   },
   {
    "duration": 10,
    "start_time": "2023-04-08T12:52:10.478Z"
   },
   {
    "duration": 46,
    "start_time": "2023-04-08T12:52:10.489Z"
   },
   {
    "duration": 29,
    "start_time": "2023-04-08T12:52:10.537Z"
   },
   {
    "duration": 22,
    "start_time": "2023-04-08T12:52:10.568Z"
   },
   {
    "duration": 24,
    "start_time": "2023-04-08T12:52:10.591Z"
   },
   {
    "duration": 15,
    "start_time": "2023-04-08T12:52:10.618Z"
   },
   {
    "duration": 15,
    "start_time": "2023-04-08T12:52:10.635Z"
   },
   {
    "duration": 21,
    "start_time": "2023-04-08T12:52:10.651Z"
   },
   {
    "duration": 27,
    "start_time": "2023-04-08T12:52:10.674Z"
   },
   {
    "duration": 18,
    "start_time": "2023-04-08T12:52:10.703Z"
   },
   {
    "duration": 22,
    "start_time": "2023-04-08T12:52:10.723Z"
   },
   {
    "duration": 13,
    "start_time": "2023-04-08T12:52:10.746Z"
   },
   {
    "duration": 28,
    "start_time": "2023-04-08T12:52:10.761Z"
   },
   {
    "duration": 0,
    "start_time": "2023-04-08T12:52:10.790Z"
   },
   {
    "duration": 0,
    "start_time": "2023-04-08T12:52:10.792Z"
   },
   {
    "duration": 0,
    "start_time": "2023-04-08T12:52:10.793Z"
   },
   {
    "duration": 0,
    "start_time": "2023-04-08T12:52:10.794Z"
   },
   {
    "duration": 0,
    "start_time": "2023-04-08T12:52:10.795Z"
   },
   {
    "duration": 5,
    "start_time": "2023-04-08T12:52:39.388Z"
   },
   {
    "duration": 5,
    "start_time": "2023-04-08T12:53:03.243Z"
   },
   {
    "duration": 5,
    "start_time": "2023-04-08T12:53:16.640Z"
   },
   {
    "duration": 5,
    "start_time": "2023-04-08T12:53:17.188Z"
   },
   {
    "duration": 3,
    "start_time": "2023-04-08T12:53:17.656Z"
   },
   {
    "duration": 3,
    "start_time": "2023-04-08T12:53:30.052Z"
   },
   {
    "duration": 16,
    "start_time": "2023-04-08T12:53:37.708Z"
   },
   {
    "duration": 3,
    "start_time": "2023-04-08T12:53:42.384Z"
   },
   {
    "duration": 4,
    "start_time": "2023-04-08T12:54:25.108Z"
   },
   {
    "duration": 5,
    "start_time": "2023-04-08T12:54:25.836Z"
   },
   {
    "duration": 3,
    "start_time": "2023-04-08T12:54:26.339Z"
   },
   {
    "duration": 22,
    "start_time": "2023-04-08T12:54:30.220Z"
   },
   {
    "duration": 25,
    "start_time": "2023-04-08T12:55:24.568Z"
   },
   {
    "duration": 3,
    "start_time": "2023-04-08T12:55:51.495Z"
   },
   {
    "duration": 4,
    "start_time": "2023-04-08T12:55:53.200Z"
   },
   {
    "duration": 3,
    "start_time": "2023-04-08T12:55:54.676Z"
   },
   {
    "duration": 50,
    "start_time": "2023-04-08T12:56:31.139Z"
   },
   {
    "duration": 15,
    "start_time": "2023-04-08T12:56:39.548Z"
   },
   {
    "duration": 17,
    "start_time": "2023-04-08T12:58:03.796Z"
   },
   {
    "duration": 52,
    "start_time": "2023-04-08T12:58:08.880Z"
   },
   {
    "duration": 12,
    "start_time": "2023-04-08T12:58:27.552Z"
   },
   {
    "duration": 3,
    "start_time": "2023-04-08T12:59:07.759Z"
   },
   {
    "duration": 13,
    "start_time": "2023-04-08T12:59:09.919Z"
   },
   {
    "duration": 15,
    "start_time": "2023-04-08T12:59:37.107Z"
   },
   {
    "duration": 99,
    "start_time": "2023-04-08T13:00:15.983Z"
   },
   {
    "duration": 63,
    "start_time": "2023-04-08T13:01:09.320Z"
   },
   {
    "duration": 63,
    "start_time": "2023-04-08T13:01:21.379Z"
   },
   {
    "duration": 61,
    "start_time": "2023-04-08T13:01:25.292Z"
   },
   {
    "duration": 4,
    "start_time": "2023-04-08T13:01:27.507Z"
   },
   {
    "duration": 66,
    "start_time": "2023-04-08T13:02:09.015Z"
   },
   {
    "duration": 80,
    "start_time": "2023-04-08T13:02:26.620Z"
   },
   {
    "duration": 87,
    "start_time": "2023-04-08T13:02:54.639Z"
   },
   {
    "duration": 145,
    "start_time": "2023-04-08T13:05:29.567Z"
   },
   {
    "duration": 35,
    "start_time": "2023-04-08T13:05:46.436Z"
   },
   {
    "duration": 67,
    "start_time": "2023-04-08T13:05:54.139Z"
   },
   {
    "duration": 67,
    "start_time": "2023-04-08T13:07:04.191Z"
   },
   {
    "duration": 65,
    "start_time": "2023-04-08T13:07:12.071Z"
   },
   {
    "duration": 82,
    "start_time": "2023-04-08T13:07:27.245Z"
   },
   {
    "duration": 88,
    "start_time": "2023-04-08T13:07:37.225Z"
   },
   {
    "duration": 69,
    "start_time": "2023-04-08T13:10:29.106Z"
   },
   {
    "duration": 76,
    "start_time": "2023-04-08T13:10:59.026Z"
   },
   {
    "duration": 175,
    "start_time": "2023-04-08T13:11:29.846Z"
   },
   {
    "duration": 94,
    "start_time": "2023-04-08T13:11:48.270Z"
   },
   {
    "duration": 67,
    "start_time": "2023-04-08T13:12:10.755Z"
   },
   {
    "duration": 65,
    "start_time": "2023-04-08T13:14:24.878Z"
   },
   {
    "duration": 143,
    "start_time": "2023-04-08T13:14:57.770Z"
   },
   {
    "duration": 63,
    "start_time": "2023-04-08T13:15:10.831Z"
   },
   {
    "duration": 31,
    "start_time": "2023-04-08T13:17:08.798Z"
   },
   {
    "duration": 2661,
    "start_time": "2023-04-08T13:17:55.470Z"
   },
   {
    "duration": 3122,
    "start_time": "2023-04-08T13:18:28.918Z"
   },
   {
    "duration": 2692,
    "start_time": "2023-04-08T13:18:45.443Z"
   },
   {
    "duration": 4,
    "start_time": "2023-04-08T13:18:48.137Z"
   },
   {
    "duration": 4475,
    "start_time": "2023-04-08T13:19:28.574Z"
   },
   {
    "duration": 5,
    "start_time": "2023-04-08T13:19:33.051Z"
   },
   {
    "duration": 2756,
    "start_time": "2023-04-08T13:19:43.541Z"
   },
   {
    "duration": 6494,
    "start_time": "2023-04-08T13:19:48.262Z"
   },
   {
    "duration": 4,
    "start_time": "2023-04-08T13:19:54.758Z"
   },
   {
    "duration": 2696,
    "start_time": "2023-04-08T13:20:04.444Z"
   },
   {
    "duration": 2908,
    "start_time": "2023-04-08T13:21:13.026Z"
   },
   {
    "duration": 9688,
    "start_time": "2023-04-08T13:23:58.541Z"
   },
   {
    "duration": 4610,
    "start_time": "2023-04-08T13:24:24.170Z"
   },
   {
    "duration": 2154,
    "start_time": "2023-04-08T13:25:40.706Z"
   },
   {
    "duration": 9705,
    "start_time": "2023-04-08T13:27:08.666Z"
   },
   {
    "duration": 701,
    "start_time": "2023-04-08T13:27:53.026Z"
   },
   {
    "duration": 9,
    "start_time": "2023-04-08T13:28:31.506Z"
   },
   {
    "duration": 10,
    "start_time": "2023-04-08T13:44:33.813Z"
   },
   {
    "duration": 11,
    "start_time": "2023-04-08T13:44:49.952Z"
   },
   {
    "duration": 2,
    "start_time": "2023-04-08T13:45:03.461Z"
   },
   {
    "duration": 831,
    "start_time": "2023-04-08T13:45:05.301Z"
   },
   {
    "duration": 883,
    "start_time": "2023-04-08T13:47:25.109Z"
   },
   {
    "duration": 284,
    "start_time": "2023-04-08T13:48:04.752Z"
   },
   {
    "duration": 237,
    "start_time": "2023-04-08T13:49:05.773Z"
   },
   {
    "duration": 233,
    "start_time": "2023-04-08T13:49:39.248Z"
   },
   {
    "duration": 263,
    "start_time": "2023-04-08T13:49:53.972Z"
   },
   {
    "duration": 261,
    "start_time": "2023-04-08T13:50:00.525Z"
   },
   {
    "duration": 63,
    "start_time": "2023-04-08T13:51:32.597Z"
   },
   {
    "duration": 63,
    "start_time": "2023-04-08T13:51:56.651Z"
   },
   {
    "duration": 334,
    "start_time": "2023-04-08T13:56:02.550Z"
   },
   {
    "duration": 335,
    "start_time": "2023-04-08T13:56:13.594Z"
   },
   {
    "duration": 197,
    "start_time": "2023-04-08T13:56:28.167Z"
   },
   {
    "duration": 188,
    "start_time": "2023-04-08T13:56:49.103Z"
   },
   {
    "duration": 183,
    "start_time": "2023-04-08T13:56:59.660Z"
   },
   {
    "duration": 168,
    "start_time": "2023-04-08T13:58:33.158Z"
   },
   {
    "duration": 190,
    "start_time": "2023-04-08T13:58:45.179Z"
   },
   {
    "duration": 171,
    "start_time": "2023-04-08T13:58:52.663Z"
   },
   {
    "duration": 204,
    "start_time": "2023-04-08T13:59:28.044Z"
   },
   {
    "duration": 2406,
    "start_time": "2023-04-08T14:00:51.831Z"
   },
   {
    "duration": 65,
    "start_time": "2023-04-08T14:02:10.471Z"
   },
   {
    "duration": 70,
    "start_time": "2023-04-08T14:02:16.359Z"
   },
   {
    "duration": 2443,
    "start_time": "2023-04-08T14:02:47.115Z"
   },
   {
    "duration": 42,
    "start_time": "2023-04-08T14:03:34.063Z"
   },
   {
    "duration": 2474,
    "start_time": "2023-04-08T14:03:44.475Z"
   },
   {
    "duration": 5,
    "start_time": "2023-04-08T15:22:39.714Z"
   },
   {
    "duration": 5,
    "start_time": "2023-04-08T15:22:42.409Z"
   },
   {
    "duration": 3,
    "start_time": "2023-04-08T15:22:44.425Z"
   },
   {
    "duration": 5,
    "start_time": "2023-04-08T15:22:45.966Z"
   },
   {
    "duration": 3,
    "start_time": "2023-04-08T15:23:41.958Z"
   },
   {
    "duration": 23,
    "start_time": "2023-04-08T15:23:47.030Z"
   },
   {
    "duration": 3,
    "start_time": "2023-04-08T15:24:07.906Z"
   },
   {
    "duration": 21,
    "start_time": "2023-04-08T15:24:17.654Z"
   },
   {
    "duration": 2761,
    "start_time": "2023-04-08T15:25:53.655Z"
   },
   {
    "duration": 3,
    "start_time": "2023-04-08T15:26:19.410Z"
   },
   {
    "duration": 2711,
    "start_time": "2023-04-08T15:26:22.558Z"
   },
   {
    "duration": 3,
    "start_time": "2023-04-08T15:26:28.814Z"
   },
   {
    "duration": 4,
    "start_time": "2023-04-08T15:26:30.946Z"
   },
   {
    "duration": 3,
    "start_time": "2023-04-08T15:27:13.229Z"
   },
   {
    "duration": 3,
    "start_time": "2023-04-08T15:27:16.040Z"
   },
   {
    "duration": 3,
    "start_time": "2023-04-08T15:27:19.197Z"
   },
   {
    "duration": 6289,
    "start_time": "2023-04-08T15:27:21.206Z"
   },
   {
    "duration": 4,
    "start_time": "2023-04-08T15:27:43.493Z"
   },
   {
    "duration": 21,
    "start_time": "2023-04-08T15:28:15.738Z"
   },
   {
    "duration": 10,
    "start_time": "2023-04-08T15:44:26.364Z"
   },
   {
    "duration": 3,
    "start_time": "2023-04-08T15:44:31.255Z"
   },
   {
    "duration": 9,
    "start_time": "2023-04-08T15:44:33.788Z"
   },
   {
    "duration": 3,
    "start_time": "2023-04-08T15:44:40.792Z"
   },
   {
    "duration": 7,
    "start_time": "2023-04-08T15:45:25.623Z"
   },
   {
    "duration": 7,
    "start_time": "2023-04-08T15:45:30.893Z"
   },
   {
    "duration": 4,
    "start_time": "2023-04-08T15:47:38.952Z"
   },
   {
    "duration": 16,
    "start_time": "2023-04-08T15:47:55.461Z"
   },
   {
    "duration": 4,
    "start_time": "2023-04-08T15:48:03.140Z"
   },
   {
    "duration": 19,
    "start_time": "2023-04-08T15:48:04.700Z"
   },
   {
    "duration": 7,
    "start_time": "2023-04-08T15:48:35.248Z"
   },
   {
    "duration": 8,
    "start_time": "2023-04-08T15:48:44.909Z"
   },
   {
    "duration": 11,
    "start_time": "2023-04-08T15:48:50.824Z"
   },
   {
    "duration": 16,
    "start_time": "2023-04-08T15:49:33.544Z"
   },
   {
    "duration": 10,
    "start_time": "2023-04-08T15:50:30.325Z"
   },
   {
    "duration": 3,
    "start_time": "2023-04-08T15:51:08.199Z"
   },
   {
    "duration": 40,
    "start_time": "2023-04-08T15:51:09.760Z"
   },
   {
    "duration": 26,
    "start_time": "2023-04-08T15:51:20.893Z"
   },
   {
    "duration": 17,
    "start_time": "2023-04-08T15:58:18.435Z"
   },
   {
    "duration": 28,
    "start_time": "2023-04-08T15:58:22.850Z"
   },
   {
    "duration": 118,
    "start_time": "2023-04-08T16:02:51.331Z"
   },
   {
    "duration": 17,
    "start_time": "2023-04-08T16:04:17.167Z"
   },
   {
    "duration": 4,
    "start_time": "2023-04-08T16:07:58.483Z"
   },
   {
    "duration": 2,
    "start_time": "2023-04-08T16:09:59.307Z"
   },
   {
    "duration": 34,
    "start_time": "2023-04-08T16:09:59.311Z"
   },
   {
    "duration": 10,
    "start_time": "2023-04-08T16:09:59.347Z"
   },
   {
    "duration": 10,
    "start_time": "2023-04-08T16:09:59.449Z"
   },
   {
    "duration": 573,
    "start_time": "2023-04-08T16:09:59.461Z"
   },
   {
    "duration": 11,
    "start_time": "2023-04-08T16:10:00.036Z"
   },
   {
    "duration": 23,
    "start_time": "2023-04-08T16:10:00.048Z"
   },
   {
    "duration": 22,
    "start_time": "2023-04-08T16:10:00.072Z"
   },
   {
    "duration": 18,
    "start_time": "2023-04-08T16:10:00.096Z"
   },
   {
    "duration": 35,
    "start_time": "2023-04-08T16:10:00.116Z"
   },
   {
    "duration": 31,
    "start_time": "2023-04-08T16:10:00.152Z"
   },
   {
    "duration": 39,
    "start_time": "2023-04-08T16:10:00.185Z"
   },
   {
    "duration": 69,
    "start_time": "2023-04-08T16:10:00.226Z"
   },
   {
    "duration": 55,
    "start_time": "2023-04-08T16:10:00.296Z"
   },
   {
    "duration": 85,
    "start_time": "2023-04-08T16:10:00.352Z"
   },
   {
    "duration": 12,
    "start_time": "2023-04-08T16:10:00.438Z"
   },
   {
    "duration": 470,
    "start_time": "2023-04-08T16:22:53.430Z"
   },
   {
    "duration": 32,
    "start_time": "2023-04-08T16:22:53.902Z"
   },
   {
    "duration": 18,
    "start_time": "2023-04-08T16:22:53.936Z"
   },
   {
    "duration": 12,
    "start_time": "2023-04-08T16:22:53.956Z"
   },
   {
    "duration": 934,
    "start_time": "2023-04-08T16:22:53.970Z"
   },
   {
    "duration": 13,
    "start_time": "2023-04-08T16:22:54.907Z"
   },
   {
    "duration": 23,
    "start_time": "2023-04-08T16:22:54.922Z"
   },
   {
    "duration": 13,
    "start_time": "2023-04-08T16:22:54.947Z"
   },
   {
    "duration": 2189,
    "start_time": "2023-04-08T16:22:54.962Z"
   },
   {
    "duration": 6,
    "start_time": "2023-04-08T16:22:57.155Z"
   },
   {
    "duration": 11,
    "start_time": "2023-04-08T16:22:57.162Z"
   },
   {
    "duration": 13,
    "start_time": "2023-04-08T16:22:57.175Z"
   },
   {
    "duration": 9,
    "start_time": "2023-04-08T16:22:57.190Z"
   },
   {
    "duration": 214,
    "start_time": "2023-04-08T16:22:57.201Z"
   },
   {
    "duration": 88,
    "start_time": "2023-04-08T16:22:57.417Z"
   },
   {
    "duration": 45,
    "start_time": "2023-04-08T16:22:57.507Z"
   },
   {
    "duration": 2694,
    "start_time": "2023-04-08T16:22:57.554Z"
   },
   {
    "duration": 3,
    "start_time": "2023-04-08T16:23:00.251Z"
   },
   {
    "duration": 132,
    "start_time": "2023-04-08T16:23:00.256Z"
   },
   {
    "duration": 0,
    "start_time": "2023-04-08T16:23:00.391Z"
   },
   {
    "duration": 0,
    "start_time": "2023-04-08T16:23:00.393Z"
   },
   {
    "duration": 0,
    "start_time": "2023-04-08T16:23:00.394Z"
   },
   {
    "duration": 0,
    "start_time": "2023-04-08T16:23:00.396Z"
   },
   {
    "duration": 0,
    "start_time": "2023-04-08T16:23:00.397Z"
   },
   {
    "duration": 0,
    "start_time": "2023-04-08T16:23:00.399Z"
   },
   {
    "duration": 0,
    "start_time": "2023-04-08T16:23:00.400Z"
   },
   {
    "duration": 0,
    "start_time": "2023-04-08T16:23:00.402Z"
   },
   {
    "duration": 0,
    "start_time": "2023-04-08T16:23:00.404Z"
   },
   {
    "duration": 0,
    "start_time": "2023-04-08T16:23:00.405Z"
   },
   {
    "duration": 1084,
    "start_time": "2023-04-09T01:52:28.289Z"
   },
   {
    "duration": 4,
    "start_time": "2023-04-09T01:57:51.317Z"
   },
   {
    "duration": 134,
    "start_time": "2023-04-09T01:57:51.323Z"
   },
   {
    "duration": 21,
    "start_time": "2023-04-09T01:57:51.460Z"
   },
   {
    "duration": 13,
    "start_time": "2023-04-09T01:57:51.483Z"
   },
   {
    "duration": 944,
    "start_time": "2023-04-09T01:57:51.499Z"
   },
   {
    "duration": 11,
    "start_time": "2023-04-09T01:57:52.444Z"
   },
   {
    "duration": 17,
    "start_time": "2023-04-09T01:57:52.456Z"
   },
   {
    "duration": 10,
    "start_time": "2023-04-09T01:57:52.474Z"
   },
   {
    "duration": 3,
    "start_time": "2023-04-09T01:57:52.486Z"
   },
   {
    "duration": 13,
    "start_time": "2023-04-09T01:57:52.490Z"
   },
   {
    "duration": 15,
    "start_time": "2023-04-09T01:57:52.505Z"
   },
   {
    "duration": 14,
    "start_time": "2023-04-09T01:57:52.521Z"
   },
   {
    "duration": 6,
    "start_time": "2023-04-09T01:57:52.536Z"
   },
   {
    "duration": 5,
    "start_time": "2023-04-09T01:57:52.543Z"
   },
   {
    "duration": 71,
    "start_time": "2023-04-09T01:57:52.550Z"
   },
   {
    "duration": 3,
    "start_time": "2023-04-09T01:57:52.623Z"
   },
   {
    "duration": 2456,
    "start_time": "2023-04-09T01:57:52.628Z"
   },
   {
    "duration": 3,
    "start_time": "2023-04-09T01:57:55.086Z"
   },
   {
    "duration": 15,
    "start_time": "2023-04-09T01:57:55.090Z"
   },
   {
    "duration": 17,
    "start_time": "2023-04-09T01:57:55.107Z"
   },
   {
    "duration": 19,
    "start_time": "2023-04-09T01:57:55.125Z"
   },
   {
    "duration": 6568,
    "start_time": "2023-04-09T01:57:55.145Z"
   },
   {
    "duration": 3,
    "start_time": "2023-04-09T01:58:01.715Z"
   },
   {
    "duration": 26,
    "start_time": "2023-04-09T01:58:01.719Z"
   },
   {
    "duration": 13,
    "start_time": "2023-04-09T01:58:01.747Z"
   },
   {
    "duration": 41,
    "start_time": "2023-04-09T01:58:01.762Z"
   },
   {
    "duration": 129,
    "start_time": "2023-04-09T01:58:01.804Z"
   },
   {
    "duration": 17,
    "start_time": "2023-04-09T01:58:01.935Z"
   },
   {
    "duration": 21,
    "start_time": "2023-04-09T01:58:01.955Z"
   },
   {
    "duration": 23,
    "start_time": "2023-04-09T02:03:12.828Z"
   },
   {
    "duration": 11,
    "start_time": "2023-04-09T02:05:20.912Z"
   },
   {
    "duration": 120,
    "start_time": "2023-04-09T02:11:19.514Z"
   },
   {
    "duration": 4,
    "start_time": "2023-04-09T02:12:41.928Z"
   },
   {
    "duration": 5,
    "start_time": "2023-04-09T02:13:04.806Z"
   },
   {
    "duration": 5,
    "start_time": "2023-04-09T02:14:56.025Z"
   },
   {
    "duration": 5,
    "start_time": "2023-04-09T02:14:57.702Z"
   },
   {
    "duration": 40,
    "start_time": "2023-04-09T02:15:33.530Z"
   },
   {
    "duration": 17,
    "start_time": "2023-04-09T02:16:22.666Z"
   },
   {
    "duration": 9,
    "start_time": "2023-04-09T02:16:27.069Z"
   },
   {
    "duration": 4,
    "start_time": "2023-04-09T02:16:43.342Z"
   },
   {
    "duration": 156,
    "start_time": "2023-04-09T02:19:11.243Z"
   },
   {
    "duration": 10,
    "start_time": "2023-04-09T02:33:08.794Z"
   },
   {
    "duration": 3,
    "start_time": "2023-04-09T02:34:06.836Z"
   },
   {
    "duration": 105,
    "start_time": "2023-04-09T02:34:18.220Z"
   },
   {
    "duration": 13,
    "start_time": "2023-04-09T02:37:27.898Z"
   },
   {
    "duration": 119,
    "start_time": "2023-04-09T02:38:08.228Z"
   },
   {
    "duration": 193,
    "start_time": "2023-04-09T02:38:48.844Z"
   },
   {
    "duration": 7864,
    "start_time": "2023-04-09T06:02:01.235Z"
   },
   {
    "duration": 185,
    "start_time": "2023-04-09T06:02:09.104Z"
   },
   {
    "duration": 120,
    "start_time": "2023-04-09T06:02:09.372Z"
   },
   {
    "duration": 83,
    "start_time": "2023-04-09T06:02:09.499Z"
   },
   {
    "duration": 393,
    "start_time": "2023-04-09T06:02:09.584Z"
   },
   {
    "duration": 98,
    "start_time": "2023-04-09T06:02:09.987Z"
   },
   {
    "duration": 3769,
    "start_time": "2023-04-09T06:02:10.119Z"
   },
   {
    "duration": 103,
    "start_time": "2023-04-09T06:02:13.898Z"
   },
   {
    "duration": 78,
    "start_time": "2023-04-09T06:02:14.015Z"
   },
   {
    "duration": 207,
    "start_time": "2023-04-09T06:02:14.106Z"
   },
   {
    "duration": 10,
    "start_time": "2023-04-09T06:02:14.371Z"
   },
   {
    "duration": 201,
    "start_time": "2023-04-09T06:02:14.392Z"
   },
   {
    "duration": 283,
    "start_time": "2023-04-09T06:02:14.610Z"
   },
   {
    "duration": 247,
    "start_time": "2023-04-09T06:02:14.894Z"
   },
   {
    "duration": 106,
    "start_time": "2023-04-09T06:02:15.172Z"
   },
   {
    "duration": 153,
    "start_time": "2023-04-09T06:02:15.279Z"
   },
   {
    "duration": 165,
    "start_time": "2023-04-09T06:02:15.433Z"
   },
   {
    "duration": 218,
    "start_time": "2023-04-09T06:02:15.599Z"
   },
   {
    "duration": 158,
    "start_time": "2023-04-09T06:02:15.819Z"
   },
   {
    "duration": 100,
    "start_time": "2023-04-09T06:02:15.979Z"
   },
   {
    "duration": 1111,
    "start_time": "2023-04-09T06:02:16.083Z"
   },
   {
    "duration": 1494,
    "start_time": "2023-04-09T06:02:17.195Z"
   },
   {
    "duration": 11,
    "start_time": "2023-04-09T06:02:18.698Z"
   },
   {
    "duration": 18263,
    "start_time": "2023-04-09T06:02:18.713Z"
   },
   {
    "duration": 9,
    "start_time": "2023-04-09T06:02:36.986Z"
   },
   {
    "duration": 173,
    "start_time": "2023-04-09T06:02:37.001Z"
   },
   {
    "duration": 198,
    "start_time": "2023-04-09T06:02:37.175Z"
   },
   {
    "duration": 292,
    "start_time": "2023-04-09T06:02:37.386Z"
   },
   {
    "duration": 43996,
    "start_time": "2023-04-09T06:02:37.679Z"
   },
   {
    "duration": 15,
    "start_time": "2023-04-09T06:03:21.682Z"
   },
   {
    "duration": 375,
    "start_time": "2023-04-09T06:03:21.701Z"
   },
   {
    "duration": 50,
    "start_time": "2023-04-09T06:03:22.089Z"
   },
   {
    "duration": 231,
    "start_time": "2023-04-09T06:03:22.182Z"
   },
   {
    "duration": 669,
    "start_time": "2023-04-09T06:03:22.422Z"
   },
   {
    "duration": 184,
    "start_time": "2023-04-09T06:03:23.097Z"
   },
   {
    "duration": 188,
    "start_time": "2023-04-09T06:03:23.301Z"
   },
   {
    "duration": 619,
    "start_time": "2023-04-09T06:04:43.373Z"
   },
   {
    "duration": 15,
    "start_time": "2023-04-09T06:04:50.694Z"
   }
  ],
  "kernelspec": {
   "display_name": "Python 3 (ipykernel)",
   "language": "python",
   "name": "python3"
  },
  "language_info": {
   "codemirror_mode": {
    "name": "ipython",
    "version": 3
   },
   "file_extension": ".py",
   "mimetype": "text/x-python",
   "name": "python",
   "nbconvert_exporter": "python",
   "pygments_lexer": "ipython3",
   "version": "3.9.5"
  },
  "toc": {
   "base_numbering": 1,
   "nav_menu": {},
   "number_sections": true,
   "sideBar": true,
   "skip_h1_title": true,
   "title_cell": "Table of Contents",
   "title_sidebar": "Contents",
   "toc_cell": false,
   "toc_position": {},
   "toc_section_display": true,
   "toc_window_display": false
  }
 },
 "nbformat": 4,
 "nbformat_minor": 2
}
